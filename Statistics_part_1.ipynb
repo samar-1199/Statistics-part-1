{
  "nbformat": 4,
  "nbformat_minor": 0,
  "metadata": {
    "colab": {
      "provenance": []
    },
    "kernelspec": {
      "name": "python3",
      "display_name": "Python 3"
    },
    "language_info": {
      "name": "python"
    }
  },
  "cells": [
    {
      "cell_type": "markdown",
      "source": [
        "**Q1.**What is a random variable in probability theory?\n",
        "-  A set of possible values from a random experiments.\n",
        "\n",
        "\n",
        "**Q2.**What are the types of random variables?\n",
        "\n",
        "-  Discrete Random Variables\n",
        "- Continuous Random Variables\n",
        "\n",
        "**Q3.**What is the difference between discrete and continuous distributions?\n",
        "\n",
        "-  Discrete Random Variables:- These take on a finite or countably infinite number of distinct values.\n",
        "\n",
        "-  Continuous Random Variables:-These can take on any value within a given range and are not countable.\n",
        "\n",
        "**Q4.**What are probability distribution functions (PDF)?\n",
        "\n",
        "-  Random variable:A set of possible values from a random experiments.\n",
        "\n",
        "-  A random variable is unknown.\n",
        "\n",
        "-  A function that assign values to each of experiment outcomes.\n",
        "\n",
        "**Q5.**How do cumulative distribution functions (CDF) differ from probability distribution functions (PDF)?\n",
        "\n",
        "-  Probability Density Function (PDF):-For continuous random variables, the PDF describes the likelihood of the random variable taking on a specific value.   \n",
        "\n",
        "-  Cumulative Distribution Function (CDF):-The CDF shows the probability that the random variable is less than or equal to a certain value. It accumulates the probabilities from the left up to that value.\n",
        "\n",
        "**Q6.**What is a discrete uniform distribution?\n",
        "\n",
        "-  In a discrete uniform distribution,the outcomes are discrete and have the same probability.\n",
        "\n",
        "**Q7.**What are the key properties of a Bernoulli distribution?\n",
        "\n",
        "-  A discrete probabilty distribution of a random variable which takes only two possible outcomes typically labeled as success (coded as 1) and failure (coded as 0) which a fixed probablity of success and failure.\n",
        "\n",
        "\n",
        "\n"
      ],
      "metadata": {
        "id": "KXqVQ8xOiSwY"
      }
    },
    {
      "cell_type": "markdown",
      "source": [
        "**Q8.**What is the binomial distribution, and how is it used in probability?\n",
        "\n",
        "-  The binomial distribution is a discrete probability distribution that models the number of successes in a fixed number of independent Bernoulli trials, each with the same probability of success. It's commonly used when you're dealing with scenarios where there are only two possible outcomes—often referred to as \"success\" and \"failure\" (like flipping a coin: heads or tails).\n",
        "\n",
        "**Q9.**What is the Poisson distribution and where is it applied?\n",
        "\n",
        "-  Poisson distribution:- It is a discrete probabilty distribution that describe the number of events that occur within a fixed interval of time or space given a known average rate of occurence.\n",
        "\n",
        "**Q10.**What is a continuous uniform distribution?\n",
        "\n",
        "-  uniform distribution refers to a type of distribution in which outcomes are likely.\n",
        "\n",
        "**Q11.**What are the characteristics of a normal distribution?\n",
        "\n",
        "-  Symmetrical about mean.\n",
        "-  Mean=Median=Mode.\n",
        "-  Skewness=0\n",
        "\n",
        "**Q12.**What is the standard normal distribution, and why is it important?\n",
        "\n",
        " -  The standard normal distribution is a special case of the normal distribution, which is a continuous probability distribution that is symmetric and bell-shaped. It's important because it forms the foundation for many statistical methods and hypothesis testing.\n",
        "\n",
        "**Q13.**What is the Central Limit Theorem (CLT), and why is it critical in statistics?\n",
        "\n",
        "-   (CLT) states that if you have a population with a mean and standard deviation and take sufficiently large no. of randoms saples from population with the replacement then the distribution of samples means will be approximately normally distributed.\n",
        "\n",
        "**Q14.** How does the Central Limit Theorem relate to the normal distribution?\n",
        "-  The Central Limit Theorem (CLT) is a fundamental concept in statistics that explains why the normal distribution is so commonly encountered, even in situations where the original data isn’t normally distributed.\n",
        "\n",
        "\n"
      ],
      "metadata": {
        "id": "2SWl3T7DwmT8"
      }
    },
    {
      "cell_type": "markdown",
      "source": [
        "**Q15.**What is the application of Z statistics in hypothesis testing?\n",
        "\n",
        "-  Z-statistics are used in hypothesis testing to determine whether there’s enough evidence to reject a null hypothesis. They measure how many standard deviations a data point or sample mean is from the population mean. This is especially useful when dealing with large sample sizes or when the population standard deviation is known.\n",
        "\n",
        "**Q16.**How do you calculate a Z-score, and what does it represent?\n",
        "-  A Z-score measures how many standard deviations a data point is from the mean of a dataset. It helps you understand where a specific value stands in relation to the overall distribution.\n",
        "\n",
        "**Q17.**What are point estimates and interval estimates in statistics?\n",
        "\n",
        "-  In statistics, point estimates and interval estimates are two methods used to infer information about a population based on sample data.\n",
        "\n",
        "**Q18.**What is the significance of confidence intervals in statistical analysis?\n",
        "\n",
        "-  Confidence level tells us how sure we are that the true value is within a calculated range. If we have to repeat the sampling process many times we expect that a certain percentage of those intervals will include the true value.\n",
        "\n"
      ],
      "metadata": {
        "id": "sufnBR182dsv"
      }
    },
    {
      "cell_type": "markdown",
      "source": [
        "**Q19.** What is the relationship between a Z-score and a confidence interval?\n",
        "\n",
        "-  To calculate the z-score for a confidence interval, find the complement of the confidence level (1 - C), divide by 2, then use a z-table or calculator to find the z-score corresponding to the cumulative probability (1 - α/2).\n",
        "\n",
        "**Q20.** How are Z-scores used to compare different distributions?\n",
        "-  \n",
        "\n",
        "**Q21.**What are the assumptions for applying the Central Limit Theorem?\n",
        "\n",
        "-  The number of samples should be large.\n",
        "-  The sample size should be be greater than or equal to 30.\n",
        "\n",
        "**Q22.**What is the concept of expected value in a probability distribution?\n",
        "\n",
        "-  Expected Value: Random variables are the functions that assign a probability to some outcomes in the sample space. They are very useful in the analysis of real-life random experiments which become complex. These variables take some outcomes from a sample space as input and assign some real numbers to it.\n",
        "\n",
        "**Q23.**How does a probability distribution relate to the expected outcome of a random variable?\n",
        "\n",
        "-  Random variables are the functions that assign a probability to some outcomes in the sample space. They are very useful in the analysis of real-life random experiments which become complex. These variables take some outcomes from a sample space as input and assign some real numbers to it.\n"
      ],
      "metadata": {
        "id": "GVpayo4w4kb4"
      }
    },
    {
      "cell_type": "markdown",
      "source": [
        "# PRACTICAL QUESTIONS"
      ],
      "metadata": {
        "id": "SXPoMvdu9bmN"
      }
    },
    {
      "cell_type": "markdown",
      "source": [
        "**Q1.**Write a Python program to generate a random variable and display its value?"
      ],
      "metadata": {
        "id": "LhraIBr-9fFN"
      }
    },
    {
      "cell_type": "code",
      "source": [
        "import random\n",
        "\n",
        "# Generate a random integer between 1 and 100\n",
        "random_variable = random.randint(1, 100)\n",
        "\n",
        "# Display the random variable\n",
        "print(\"The generated random variable is:\", random_variable)\n"
      ],
      "metadata": {
        "id": "B_omuCt29mAD"
      },
      "execution_count": null,
      "outputs": []
    },
    {
      "cell_type": "markdown",
      "source": [
        "**Q2.**Generate a discrete uniform distribution using Python and plot the probability mass function (PMF)"
      ],
      "metadata": {
        "id": "QRicxO_R9mXB"
      }
    },
    {
      "cell_type": "code",
      "source": [
        "#uniform distribution >> all the outcomes has equal probability to occur in a range\n",
        "u = np.random.uniform(0, 1, 10000)\n",
        "plt.hist(u)\n",
        "plt.show()"
      ],
      "metadata": {
        "colab": {
          "base_uri": "https://localhost:8080/",
          "height": 430
        },
        "id": "V7LSz1gi1W7C",
        "outputId": "4d0bab32-13f7-4abf-f987-e42b1c986b78"
      },
      "execution_count": 2,
      "outputs": [
        {
          "output_type": "display_data",
          "data": {
            "text/plain": [
              "<Figure size 640x480 with 1 Axes>"
            ],
            "image/png": "[encoded data removed]"
          },
          "metadata": {}
        }
      ]
    },
    {
      "cell_type": "markdown",
      "source": [
        "**Q3.**> Write a Python function to calculate the probability distribution function (PDF) of a Bernoulli distribution"
      ],
      "metadata": {
        "id": "zm0gNfXQ9uHz"
      }
    },
    {
      "cell_type": "code",
      "source": [
        "#discrete distribution\n",
        "#bernoulli dist >> binomial dist with one trial is bernoulli dist\n",
        "\n",
        "b = np.random.binomial(n=1, p = 0.5, size= 1000)\n",
        "plt.hist(b)\n",
        "plt.show()\n"
      ],
      "metadata": {
        "id": "o0B1Y3gu90Cq"
      },
      "execution_count": null,
      "outputs": []
    },
    {
      "cell_type": "markdown",
      "source": [
        "**Q4.**Write a Python script to simulate a binomial distribution with n=10 and p=0.5, then plot its histogram"
      ],
      "metadata": {
        "id": "5vhwokeM90fa"
      }
    },
    {
      "cell_type": "code",
      "source": [
        "#binomial dist\n",
        "b = np.random.binomial(n=10, p = 0.5, size= 1000)\n",
        "plt.hist(b)\n",
        "plt.show()"
      ],
      "metadata": {
        "id": "EWHrhMqh97pq",
        "colab": {
          "base_uri": "https://localhost:8080/",
          "height": 430
        },
        "outputId": "4660d604-5803-4d02-9a39-f7915c106ded"
      },
      "execution_count": 3,
      "outputs": [
        {
          "output_type": "display_data",
          "data": {
            "text/plain": [
              "<Figure size 640x480 with 1 Axes>"
            ],
            "image/png": "[encoded data removed]"
          },
          "metadata": {}
        }
      ]
    },
    {
      "cell_type": "markdown",
      "source": [
        "**Q5.**Create a Poisson distribution and visualize it using Python?\n"
      ],
      "metadata": {
        "id": "jAv0PZNv-bgm"
      }
    },
    {
      "cell_type": "code",
      "source": [
        "#poisson distribution\n",
        "p = np.random.poisson(lam = 5, size = 1000)\n",
        "plt.hist(p, bins=20)\n",
        "plt.show()"
      ],
      "metadata": {
        "id": "xjDdOMkV-mbP"
      },
      "execution_count": null,
      "outputs": []
    },
    {
      "cell_type": "markdown",
      "source": [
        "**Q6.**Write a Python program to calculate and plot the cumulative distribution function (CDF) of a discrete\n",
        "uniform distribution"
      ],
      "metadata": {
        "id": "68KDUQFK-nNy"
      }
    },
    {
      "cell_type": "code",
      "source": [
        "import numpy as np\n",
        "import matplotlib.pyplot as plt\n",
        "\n",
        "# Parameters for the discrete uniform distribution\n",
        "a, b = 1, 10  # Inclusive range from 1 to 10\n",
        "\n",
        "# Values for the discrete uniform distribution\n",
        "x = np.arange(a, b + 1)\n",
        "pmf = np.full_like(x, 1 / (b - a + 1))  # Equal probability for each value\n",
        "\n",
        "# Calculating the CDF\n",
        "cdf = np.cumsum(pmf)  # Cumulative sum of PMF\n",
        "\n",
        "# Plotting the CDF\n",
        "plt.figure(figsize=(8, 5))\n",
        "plt.step(x, cdf, where='post', color='blue', marker='o')\n",
        "plt.title('Cumulative Distribution Function (CDF) of a Discrete Uniform Distribution')\n",
        "plt.xlabel('x')\n",
        "plt.ylabel('CDF P(X ≤ x)')\n",
        "plt.grid(True)\n",
        "\n",
        "plt.show()\n"
      ],
      "metadata": {
        "id": "J_JgOIwR-0Hk"
      },
      "execution_count": null,
      "outputs": []
    },
    {
      "cell_type": "markdown",
      "source": [
        "**Q7.**Generate a continuous uniform distribution using NumPy and visualize it"
      ],
      "metadata": {
        "id": "OqZ43hqa-0rh"
      }
    },
    {
      "cell_type": "code",
      "source": [],
      "metadata": {
        "id": "xgcdZ4mp_yML"
      },
      "execution_count": null,
      "outputs": []
    },
    {
      "cell_type": "markdown",
      "source": [
        "**Q8.**Simulate data from a normal distribution and plot its histogram"
      ],
      "metadata": {
        "id": "TsRRXhI8xnjo"
      }
    },
    {
      "cell_type": "code",
      "source": [
        "#log normal distribution\n",
        "l = np.random.lognormal(mean = 0, sigma=0.5, size = 1000)\n",
        "l = l[np.where(abs(l) < 5)]\n",
        "plt.hist(l, bins = 100)\n",
        "plt.show()"
      ],
      "metadata": {
        "id": "jwpOeECpx2qw",
        "colab": {
          "base_uri": "https://localhost:8080/",
          "height": 430
        },
        "outputId": "7942ee71-ef4c-4475-9760-5c447036e80f"
      },
      "execution_count": 4,
      "outputs": [
        {
          "output_type": "display_data",
          "data": {
            "text/plain": [
              "<Figure size 640x480 with 1 Axes>"
            ],
            "image/png": "[encoded data removed]"
          },
          "metadata": {}
        }
      ]
    },
    {
      "cell_type": "markdown",
      "source": [
        "**Q9.**Write a Python function to calculate Z-scores from a dataset and plot them"
      ],
      "metadata": {
        "id": "blwMYcZmx3GX"
      }
    },
    {
      "cell_type": "code",
      "source": [
        "# create vector\n",
        "a <- c(9, 10, 12, 14, 5, 8, 9)\n",
        "\n",
        "# find mean\n",
        "mean(a)\n",
        "\n",
        "# find standard deviation\n",
        "sd(a)\n",
        "\n",
        "# calculate z\n",
        "a.z <- (a - mean(a)) / sd(a)\n",
        "\n",
        "# plot z-score\n",
        "plot(a.z, type=\"o\", col=\"green\")\n"
      ],
      "metadata": {
        "id": "DM05QEZxx8-e"
      },
      "execution_count": null,
      "outputs": []
    },
    {
      "cell_type": "markdown",
      "source": [
        "**Q10.** Implement the Central Limit Theorem (CLT) using Python for a non-normal distribution"
      ],
      "metadata": {
        "id": "xX90s2t7x9Z-"
      }
    },
    {
      "cell_type": "code",
      "source": [
        "import numpy as np\n",
        "import matplotlib.pyplot as plt\n",
        "\n",
        "# Parameters\n",
        "population_size = 10000  # Large population size\n",
        "sample_size = 50         # Sample size\n",
        "num_samples = 1000       # Number of samples to draw\n",
        "\n",
        "# Generate a non-normal distribution (e.g., exponential distribution)\n",
        "population = np.random.exponential(scale=2, size=population_size)\n",
        "\n",
        "# Sample means to demonstrate the CLT\n",
        "sample_means = [np.mean(np.random.choice(population, size=sample_size)) for _ in range(num_samples)]\n",
        "\n",
        "# Plotting the original population and sample means\n",
        "plt.figure(figsize=(12, 6))\n",
        "\n",
        "# Original population distribution\n",
        "plt.subplot(1, 2, 1)\n",
        "plt.hist(population, bins=30, color='skyblue', edgecolor='black')\n",
        "plt.title('Original Non-Normal Distribution (Exponential)')\n",
        "plt.xlabel('Value')\n",
        "plt.ylabel('Frequency')\n",
        "\n",
        "# Sample means distribution (demonstrating CLT)\n",
        "plt.subplot(1, 2, 2)\n",
        "plt.hist(sample_means, bins=30, color='salmon', edgecolor='black')\n",
        "plt.title('Sample Means Distribution (CLT in Action)')\n",
        "plt.xlabel('Sample Mean')\n",
        "plt.ylabel('Frequency')\n",
        "\n",
        "plt.tight_layout()\n",
        "plt.show()\n"
      ],
      "metadata": {
        "id": "HHZmXOZiyGZf"
      },
      "execution_count": null,
      "outputs": []
    },
    {
      "cell_type": "markdown",
      "source": [
        "**Q11.**Simulate multiple samples from a normal distribution and verify the Central Limit Theorem"
      ],
      "metadata": {
        "id": "QlBLlSKDyGyJ"
      }
    },
    {
      "cell_type": "code",
      "source": [
        "#central limit theorem >> The sample mean distribution will be approximated to normal distribution given sample size >= 30 and\n",
        "#no of samples are sufficiently large enough"
      ],
      "metadata": {
        "id": "11rUAWoLySXC"
      },
      "execution_count": null,
      "outputs": []
    },
    {
      "cell_type": "markdown",
      "source": [
        "**Q12.**Write a Python function to calculate and plot the standard normal distribution (mean = 0, std = 1)5\n"
      ],
      "metadata": {
        "id": "hnqd4gpLyTAh"
      }
    },
    {
      "cell_type": "code",
      "source": [
        "import numpy as np\n",
        "import matplotlib.pyplot as plt\n",
        "from scipy.stats import norm\n",
        "\n",
        "def plot_standard_normal_distribution():\n",
        "    # Parameters for the standard normal distribution\n",
        "    mean = 0\n",
        "    std = 1\n",
        "    x = np.linspace(-4, 4, 1000)  # Range for the plot\n",
        "\n",
        "    # Probability Density Function (PDF)\n",
        "    pdf = norm.pdf(x, loc=mean, scale=std)\n",
        "\n",
        "    # Plotting the standard normal distribution\n",
        "    plt.figure(figsize=(8, 5))\n",
        "    plt.plot(x, pdf, color='blue', label='Standard Normal Distribution')\n",
        "    plt.fill_between(x, pdf, color='skyblue', alpha=0.4)  # Optional shading\n",
        "    plt.title('Standard Normal Distribution (Mean = 0, Std = 1)')\n",
        "    plt.xlabel('X')\n",
        "    plt.ylabel('Probability Density')\n",
        "    plt.legend()\n",
        "    plt.grid(True)\n",
        "\n",
        "    plt.show()\n",
        "\n",
        "# Call the function to plot\n",
        "plot_standard_normal_distribution()\n"
      ],
      "metadata": {
        "id": "BuWX67GRyopS"
      },
      "execution_count": null,
      "outputs": []
    },
    {
      "cell_type": "markdown",
      "source": [
        "**Q13.**Generate random variables and calculate their corresponding probabilities using the binomial distribution"
      ],
      "metadata": {
        "id": "wPcz0WfbypOg"
      }
    },
    {
      "cell_type": "code",
      "source": [
        "import numpy as np\n",
        "from scipy.stats import binom\n",
        "import matplotlib.pyplot as plt\n",
        "\n",
        "# Parameters for the binomial distribution\n",
        "n = 10   # Number of trials\n",
        "p = 0.5  # Probability of success in each trial\n",
        "size = 1000  # Number of random variables to generate\n",
        "\n",
        "# Generate random variables from the binomial distribution\n",
        "random_variables = np.random.binomial(n, p, size)\n",
        "\n",
        "# Calculate the probability of each outcome\n",
        "# We use the PMF (Probability Mass Function)\n",
        "outcomes = np.arange(0, n+1)\n",
        "probabilities = binom.pmf(outcomes, n, p)\n",
        "\n",
        "# Visualization: Plotting the PMF\n",
        "plt.figure(figsize=(8, 5))\n",
        "plt.bar(outcomes, probabilities, color='skyblue', edgecolor='black')\n",
        "plt.title('Binomial Distribution PMF')\n",
        "plt.xlabel('Number of Successes')\n",
        "plt.ylabel('Probability')\n",
        "plt.grid(axis='y')\n",
        "\n",
        "plt.show()\n",
        "\n",
        "# Display the probabilities for each outcome\n",
        "for outcome, prob in zip(outcomes, probabilities):\n",
        "    print(f\"P(X = {outcome}) = {prob:.4f}\")\n"
      ],
      "metadata": {
        "id": "Vb6nOwVzyyE2"
      },
      "execution_count": null,
      "outputs": []
    },
    {
      "cell_type": "markdown",
      "source": [
        "**Q14.**Write a Python program to calculate the Z-score for a given data point and compare it to a standard normal\n",
        "distribution"
      ],
      "metadata": {
        "id": "RB5i5vEoyyem"
      }
    },
    {
      "cell_type": "code",
      "source": [
        "import numpy as np\n",
        "import matplotlib.pyplot as plt\n",
        "from scipy.stats import norm\n",
        "\n",
        "# Sample data\n",
        "data = [50, 55, 60, 65, 70, 75, 80, 85, 90, 95]\n",
        "mean_data = np.mean(data)\n",
        "std_dev_data = np.std(data)\n",
        "\n",
        "# Given data point to calculate Z-score\n",
        "data_point = 70\n",
        "\n",
        "# Calculate Z-score\n",
        "z_score = (data_point - mean_data) / std_dev_data\n",
        "\n",
        "# Display the Z-score\n",
        "print(f\"Z-score for data point {data_point}: {z_score:.2f}\")\n",
        "\n",
        "# Plotting the standard normal distribution\n",
        "x = np.linspace(-4, 4, 1000)\n",
        "pdf = norm.pdf(x, loc=0, scale=1)  # Standard normal distribution\n",
        "\n",
        "plt.figure(figsize=(8, 5))\n",
        "plt.plot(x, pdf, color='blue', label='Standard Normal Distribution')\n",
        "\n",
        "# Mark the Z-score on the plot\n",
        "plt.axvline(x=z_score, color='red', linestyle='--', label=f'Z-score ({z_score:.2f})')\n",
        "plt.scatter(z_score, norm.pdf(z_score), color='red')\n",
        "\n",
        "plt.title('Z-score and Standard Normal Distribution')\n",
        "plt.xlabel('Z-score')\n",
        "plt.ylabel('Probability Density')\n",
        "plt.legend()\n",
        "plt.grid(True)\n",
        "\n",
        "plt.show()\n"
      ],
      "metadata": {
        "id": "w04ylsbXy4M0"
      },
      "execution_count": null,
      "outputs": []
    },
    {
      "cell_type": "markdown",
      "source": [
        "**Q15.**Implement hypothesis testing using Z-statistics for a sample dataset"
      ],
      "metadata": {
        "id": "wVmWSDGqy_M7"
      }
    },
    {
      "cell_type": "code",
      "source": [
        "import numpy as np\n",
        "from scipy import stats\n",
        "\n",
        "# Sample data\n",
        "np.random.seed(42)\n",
        "sample_data = np.random.normal(loc=55, scale=10, size=30)  # Sample from a normal distribution\n",
        "\n",
        "# Hypothesis testing parameters\n",
        "population_mean = 50    # Known population mean\n",
        "population_std = 10     # Known population standard deviation\n",
        "alpha = 0.05            # Significance level (5%)\n",
        "\n",
        "# Calculate the Z-statistic\n",
        "sample_mean = np.mean(sample_data)\n",
        "sample_size = len(sample_data)\n",
        "z_stat = (sample_mean - population_mean) / (population_std / np.sqrt(sample_size))\n",
        "\n",
        "# Calculate the critical value for a two-tailed test\n",
        "z_critical = stats.norm.ppf(1 - alpha / 2)\n",
        "\n",
        "# Determine the decision\n",
        "print(f\"Z-statistic: {z_stat:.2f}\")\n",
        "print(f\"Critical Z-value (±{z_critical:.2f}): ±{z_critical:.2f}\")\n",
        "\n",
        "if abs(z_stat) > z_critical:\n",
        "    print(\"Reject the null hypothesis: There is a significant difference from the population mean.\")\n",
        "else:\n",
        "    print(\"Fail to reject the null hypothesis: No significant difference from the population mean.\")\n",
        "\n",
        "# Optional: Visualizing the Z-test\n",
        "import matplotlib.pyplot as plt\n",
        "\n",
        "x = np.linspace(-4, 4, 1000)\n",
        "pdf = stats.norm.pdf(x, loc=0, scale=1)\n",
        "\n",
        "plt.figure(figsize=(8, 5))\n",
        "plt.plot(x, pdf, label='Standard Normal Distribution')\n",
        "plt.axvline(z_stat, color='red', linestyle='--', label=f'Z-statistic ({z_stat:.2f})')\n",
        "plt.axvline(z_critical, color='green', linestyle='--', label=f'Critical Value ±{z_critical:.2f}')\n",
        "plt.axvline(-z_critical, color='green', linestyle='--')\n",
        "\n",
        "plt.title('Z-Test Visualization')\n",
        "plt.xlabel('Z-score')\n",
        "plt.ylabel('Probability Density')\n",
        "plt.legend()\n",
        "plt.grid(True)\n",
        "\n",
        "plt.show()\n"
      ],
      "metadata": {
        "id": "pfmqd54VzFeU"
      },
      "execution_count": null,
      "outputs": []
    },
    {
      "cell_type": "markdown",
      "source": [
        "**Q16.** Create a confidence interval for a dataset using Python and interpret the result"
      ],
      "metadata": {
        "id": "RCf9RBokzF3I"
      }
    },
    {
      "cell_type": "code",
      "source": [
        "import numpy as np\n",
        "from scipy import stats\n",
        "import matplotlib.pyplot as plt\n",
        "\n",
        "# Sample data\n",
        "np.random.seed(42)\n",
        "data = np.random.normal(loc=75, scale=12, size=50)  # Sample from a normal distribution\n",
        "\n",
        "# Confidence level\n",
        "confidence_level = 0.95\n",
        "alpha = 1 - confidence_level\n",
        "\n",
        "# Calculate the sample mean and standard error\n",
        "sample_mean = np.mean(data)\n",
        "standard_error = stats.sem(data)  # Standard error of the mean\n",
        "sample_size = len(data)\n",
        "\n",
        "# Calculate the confidence interval using the t-distribution\n",
        "ci_lower, ci_upper = stats.t.interval(\n",
        "    confidence_level,\n",
        "    df=sample_size-1,\n",
        "    loc=sample_mean,\n",
        "    scale=standard_error\n",
        ")\n",
        "\n",
        "# Display the results\n",
        "print(f\"Sample Mean: {sample_mean:.2f}\")\n",
        "print(f\"95% Confidence Interval: ({ci_lower:.2f}, {ci_upper:.2f})\")\n",
        "\n",
        "# Visualization\n",
        "plt.figure(figsize=(8, 5))\n",
        "plt.hist(data, bins=15, color='skyblue', edgecolor='black', alpha=0.7)\n",
        "plt.axvline(sample_mean, color='red', linestyle='--', label=f'Sample Mean ({sample_mean:.2f})')\n",
        "plt.axvline(ci_lower, color='green', linestyle='--', label=f'95% CI Lower Bound ({ci_lower:.2f})')\n",
        "plt.axvline(ci_upper, color='green', linestyle='--', label=f'95% CI Upper Bound ({ci_upper:.2f})')\n",
        "\n",
        "plt.title('Sample Data with 95% Confidence Interval')\n",
        "plt.xlabel('Value')\n",
        "plt.ylabel('Frequency')\n",
        "plt.legend()\n",
        "plt.grid(True)\n",
        "\n",
        "plt.show()\n"
      ],
      "metadata": {
        "id": "dgmi8z34zNIC"
      },
      "execution_count": null,
      "outputs": []
    },
    {
      "cell_type": "markdown",
      "source": [
        "**Q17.**Generate data from a normal distribution, then calculate and interpret the confidence interval for its mean"
      ],
      "metadata": {
        "id": "SmuVwUCDzN0F"
      }
    },
    {
      "cell_type": "code",
      "source": [
        "import numpy as np\n",
        "import scipy.stats as stats\n",
        "import matplotlib.pyplot as plt\n",
        "\n",
        "# Parameters for the normal distribution\n",
        "np.random.seed(42)\n",
        "mean_true = 50      # True mean of the population\n",
        "std_dev_true = 10   # True standard deviation\n",
        "sample_size = 100   # Sample size\n",
        "\n",
        "# Generate random data from a normal distribution\n",
        "data = np.random.normal(loc=mean_true, scale=std_dev_true, size=sample_size)\n",
        "\n",
        "# Calculate the sample mean and standard error\n",
        "sample_mean = np.mean(data)\n",
        "standard_error = stats.sem(data)  # Standard error of the mean\n",
        "\n",
        "# Confidence level\n",
        "confidence_level = 0.95\n",
        "alpha = 1 - confidence_level\n",
        "\n",
        "# Calculate the confidence interval\n",
        "ci_lower, ci_upper = stats.t.interval(\n",
        "    confidence_level,\n",
        "    df=sample_size-1,\n",
        "    loc=sample_mean,\n",
        "    scale=standard_error\n",
        ")\n",
        "\n",
        "# Display the results\n",
        "print(f\"Sample Mean: {sample_mean:.2f}\")\n",
        "print(f\"95% Confidence Interval: ({ci_lower:.2f}, {ci_upper:.2f})\")\n",
        "\n",
        "# Plotting the data and confidence interval\n",
        "plt.figure(figsize=(8, 5))\n",
        "plt.hist(data, bins=20, color='skyblue', edgecolor='black', alpha=0.7)\n",
        "plt.axvline(sample_mean, color='red', linestyle='--', label=f'Sample Mean ({sample_mean:.2f})')\n",
        "plt.axvline(ci_lower, color='green', linestyle='--', label=f'95% CI Lower Bound ({ci_lower:.2f})')\n",
        "plt.axvline(ci_upper, color='green', linestyle='--', label=f'95% CI Upper Bound ({ci_upper:.2f})')\n",
        "\n",
        "plt.title('Sample Data with 95% Confidence Interval')\n",
        "plt.xlabel('Value')\n",
        "plt.ylabel('Frequency')\n",
        "plt.legend()\n",
        "plt.grid(True)\n",
        "\n",
        "plt.show()\n"
      ],
      "metadata": {
        "id": "RIITDK8GzTwK"
      },
      "execution_count": null,
      "outputs": []
    },
    {
      "cell_type": "markdown",
      "source": [
        "**Q18.**Write a Python script to calculate and visualize the probability density function (PDF) of a normal distribution"
      ],
      "metadata": {
        "id": "OJw6WWeszUHq"
      }
    },
    {
      "cell_type": "code",
      "source": [
        "import numpy as np\n",
        "import matplotlib.pyplot as plt\n",
        "from scipy.stats import norm\n",
        "\n",
        "# Parameters for the normal distribution\n",
        "mean = 0       # Mean (center of the distribution)\n",
        "std_dev = 1    # Standard deviation (spread of the distribution)\n",
        "x = np.linspace(-4, 4, 1000)  # Range for the plot\n",
        "\n",
        "# Calculate the PDF\n",
        "pdf = norm.pdf(x, loc=mean, scale=std_dev)\n",
        "\n",
        "# Plotting the PDF\n",
        "plt.figure(figsize=(8, 5))\n",
        "plt.plot(x, pdf, color='blue', label='Normal Distribution PDF')\n",
        "plt.fill_between(x, pdf, color='skyblue', alpha=0.4)  # Optional shading\n",
        "\n",
        "# Adding labels and title\n",
        "plt.title('Probability Density Function (PDF) of a Normal Distribution')\n",
        "plt.xlabel('X')\n",
        "plt.ylabel('Probability Density')\n",
        "plt.legend()\n",
        "plt.grid(True)\n",
        "\n",
        "plt.show()\n"
      ],
      "metadata": {
        "id": "gJ0WR99rzgY7"
      },
      "execution_count": null,
      "outputs": []
    },
    {
      "cell_type": "markdown",
      "source": [
        "**Q19.**Use Python to calculate and interpret the cumulative distribution function (CDF) of a Poisson distribution"
      ],
      "metadata": {
        "id": "hKIu9_vCzgxh"
      }
    },
    {
      "cell_type": "code",
      "source": [
        "import numpy as np\n",
        "import matplotlib.pyplot as plt\n",
        "from scipy.stats import poisson\n",
        "\n",
        "# Parameters for the Poisson distribution\n",
        "lambda_ = 4  # Average rate (mean number of events)\n",
        "x = np.arange(0, 15)  # Range of values (0 to 14)\n",
        "\n",
        "# Calculate the CDF of the Poisson distribution\n",
        "cdf = poisson.cdf(x, mu=lambda_)\n",
        "\n",
        "# Plotting the CDF\n",
        "plt.figure(figsize=(8, 5))\n",
        "plt.step(x, cdf, where='post', color='purple', label='Poisson CDF')\n",
        "plt.scatter(x, cdf, color='red')  # Mark points for clarity\n",
        "\n",
        "plt.title('Cumulative Distribution Function (CDF) of Poisson Distribution')\n",
        "plt.xlabel('Number of Events')\n",
        "plt.ylabel('Cumulative Probability')\n",
        "plt.grid(True)\n",
        "plt.legend()\n",
        "\n",
        "plt.show()\n",
        "\n",
        "# Display CDF values for each outcome\n",
        "for k, prob in zip(x, cdf):\n",
        "    print(f\"P(X ≤ {k}) = {prob:.4f}\")\n"
      ],
      "metadata": {
        "id": "50Ugvmkhznhj"
      },
      "execution_count": null,
      "outputs": []
    },
    {
      "cell_type": "markdown",
      "source": [
        "**Q20.**Simulate a random variable using a continuous uniform distribution and calculate its expected value"
      ],
      "metadata": {
        "id": "7rJ2pMC9zn5t"
      }
    },
    {
      "cell_type": "code",
      "source": [
        "import numpy as np\n",
        "\n",
        "# Parameters for the continuous uniform distribution\n",
        "low, high = 0, 10  # Range from 0 to 10\n",
        "size = 1000       # Number of samples\n",
        "\n",
        "# Simulate the random variable\n",
        "data = np.random.uniform(low, high, size)\n",
        "\n",
        "# Calculate the expected value (mean) for a continuous uniform distribution\n",
        "expected_value = (low + high) / 2  # Theoretical expected value\n",
        "\n",
        "# Display the expected value\n",
        "print(f\"Theoretical Expected Value: {expected_value}\")\n",
        "\n",
        "# Alternatively, calculate the sample mean as an estimate\n",
        "sample_mean = np.mean(data)\n",
        "print(f\"Sample Mean (Estimated Expected Value): {sample_mean}\")\n"
      ],
      "metadata": {
        "id": "76viwrtoztjg"
      },
      "execution_count": null,
      "outputs": []
    },
    {
      "cell_type": "markdown",
      "source": [
        "**Q21.**Write a Python program to compare the standard deviations of two datasets and visualize the difference5"
      ],
      "metadata": {
        "id": "Cqk9Ozslzt4v"
      }
    },
    {
      "cell_type": "code",
      "source": [
        "import numpy as np\n",
        "import matplotlib.pyplot as plt\n",
        "\n",
        "# Generate two random datasets\n",
        "np.random.seed(42)\n",
        "data1 = np.random.normal(loc=0, scale=1, size=1000)  # Dataset 1: Normal distribution (mean=0, std=1)\n",
        "data2 = np.random.normal(loc=0, scale=2, size=1000)  # Dataset 2: Normal distribution (mean=0, std=2)\n",
        "\n",
        "# Calculate standard deviations\n",
        "std_dev1 = np.std(data1)\n",
        "std_dev2 = np.std(data2)\n",
        "\n",
        "# Visualization\n",
        "plt.figure(figsize=(8, 5))\n",
        "plt.bar(['Dataset 1', 'Dataset 2'], [std_dev1, std_dev2], color=['skyblue', 'salmon'])\n",
        "plt.title('Comparison of Standard Deviations')\n",
        "plt.ylabel('Standard Deviation')\n",
        "plt.grid(axis='y')\n",
        "\n",
        "plt.show()\n",
        "\n",
        "# Display standard deviation values\n",
        "print(f\"Standard Deviation of Dataset 1: {std_dev1:.2f}\")\n",
        "print(f\"Standard Deviation of Dataset 2: {std_dev2:.2f}\")\n"
      ],
      "metadata": {
        "id": "JIcSk7VMzzdF"
      },
      "execution_count": null,
      "outputs": []
    },
    {
      "cell_type": "markdown",
      "source": [
        "**Q22.**Calculate the range and interquartile range (IQR) of a dataset generated from a normal distribution"
      ],
      "metadata": {
        "id": "zXQHoUBjzz__"
      }
    },
    {
      "cell_type": "code",
      "source": [
        "import numpy as np\n",
        "\n",
        "# Generate a dataset from a normal distribution\n",
        "np.random.seed(42)\n",
        "data = np.random.normal(loc=0, scale=1, size=1000)  # Mean=0, Std=1, Size=1000\n",
        "\n",
        "# Calculate the range\n",
        "data_range = np.max(data) - np.min(data)\n",
        "\n",
        "# Calculate the interquartile range (IQR)\n",
        "Q1 = np.percentile(data, 25)  # First quartile (25th percentile)\n",
        "Q3 = np.percentile(data, 75)  # Third quartile (75th percentile)\n",
        "IQR = Q3 - Q1\n",
        "\n",
        "# Display results\n",
        "print(f\"Range of the dataset: {data_range:.2f}\")\n",
        "print(f\"Interquartile Range (IQR): {IQR:.2f}\")\n"
      ],
      "metadata": {
        "id": "JL1VLgGOz5rX"
      },
      "execution_count": null,
      "outputs": []
    },
    {
      "cell_type": "markdown",
      "source": [
        "**Q23.** Implement Z-score normalization on a dataset and visualize its transformation\n"
      ],
      "metadata": {
        "id": "W7ULvXcFz6JW"
      }
    },
    {
      "cell_type": "code",
      "source": [
        "import numpy as np\n",
        "import matplotlib.pyplot as plt\n",
        "\n",
        "# Generate a sample dataset (non-normal distribution for demonstration)\n",
        "np.random.seed(42)\n",
        "data = np.random.randint(50, 150, size=100)\n",
        "\n",
        "# Z-score normalization\n",
        "def z_score_normalization(data):\n",
        "    mean = np.mean(data)\n",
        "    std = np.std(data)\n",
        "    return (data - mean) / std\n",
        "\n",
        "# Apply Z-score normalization\n",
        "normalized_data = z_score_normalization(data)\n",
        "\n",
        "# Plotting the original and normalized data\n",
        "plt.figure(figsize=(10, 6))\n",
        "\n",
        "# Original Data\n",
        "plt.subplot(1, 2, 1)\n",
        "plt.hist(data, bins=20, color='skyblue', edgecolor='black')\n",
        "plt.title('Original Data')\n",
        "plt.xlabel('Value')\n",
        "plt.ylabel('Frequency')\n",
        "\n",
        "# Normalized Data\n",
        "plt.subplot(1, 2, 2)\n",
        "plt.hist(normalized_data, bins=20, color='salmon', edgecolor='black')\n",
        "plt.title('Z-score Normalized Data')\n",
        "plt.xlabel('Z-score')\n",
        "plt.ylabel('Frequency')\n",
        "\n",
        "plt.tight_layout()\n",
        "plt.show()\n"
      ],
      "metadata": {
        "id": "qlpY1nDn0Abb"
      },
      "execution_count": null,
      "outputs": []
    },
    {
      "cell_type": "markdown",
      "source": [
        "**Q24.**Write a Python function to calculate the skewness and kurtosis of a dataset generated from a normal\n",
        "distribution."
      ],
      "metadata": {
        "id": "WDznFP1m0A0U"
      }
    },
    {
      "cell_type": "code",
      "source": [
        "import numpy as np\n",
        "from scipy.stats import skew, kurtosis\n",
        "\n",
        "def calculate_skewness_kurtosis(mean=0, std=1, size=1000):\n",
        "    \"\"\"\n",
        "    Generate a dataset from a normal distribution and calculate skewness and kurtosis.\n",
        "\n",
        "    Parameters:\n",
        "    - mean (float): Mean of the normal distribution (default is 0)\n",
        "    - std (float): Standard deviation of the normal distribution (default is 1)\n",
        "    - size (int): Number of data points to generate (default is 1000)\n",
        "\n",
        "    Returns:\n",
        "    - tuple: (skewness, kurtosis)\n",
        "    \"\"\"\n",
        "    # Generate dataset from normal distribution\n",
        "    data = np.random.normal(loc=mean, scale=std, size=size)\n",
        "\n",
        "    # Calculate skewness and kurtosis\n",
        "    skewness = skew(data)\n",
        "    kurt = kurtosis(data)  # Excess kurtosis (subtracts 3)\n",
        "\n",
        "    return skewness, kurt\n",
        "\n",
        "# Example usage\n",
        "skewness, kurtosis_value = calculate_skewness_kurtosis(mean=0, std=1, size=1000)\n",
        "print(f\"Skewness: {skewness}\")\n",
        "print(f\"Kurtosis: {kurtosis_value}\")\n"
      ],
      "metadata": {
        "id": "c6Q6NALT0Gqm"
      },
      "execution_count": null,
      "outputs": []
    }
  ]
}